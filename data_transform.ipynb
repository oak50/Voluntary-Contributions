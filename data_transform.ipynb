{
 "cells": [
  {
   "cell_type": "markdown",
   "metadata": {},
   "source": [
    "Transform sheet 2:"
   ]
  },
  {
   "cell_type": "code",
   "execution_count": 11,
   "metadata": {},
   "outputs": [],
   "source": [
    "import pandas as pd\n",
    "\n",
    "# Load the CSV file\n",
    "df = pd.read_csv(\"/workspace/Voluntary-Contributions/Voluntary-Contributions(Sheet2).csv\")\n",
    "\n",
    "# Define function to split IDs and responses\n",
    "def split_ids_responses(entry, n):\n",
    "    ids = [\"\"] * n\n",
    "    responses = [\"\"] * n\n",
    "    if pd.notna(entry):  # Check for non-null entries\n",
    "        items = entry.split(\", \")\n",
    "        for i, item in enumerate(items):\n",
    "            if i < n:\n",
    "                id_part, response_part = item.split(\":\")\n",
    "                ids[i] = id_part.replace(\"ID\", \"\")\n",
    "                responses[i] = response_part\n",
    "    return ids + responses\n",
    "\n",
    "# Apply function to the column and create separate columns\n",
    "n = 3  # Maximum number of ID-Response pairs\n",
    "new_columns = df['IDs_Uncleaned'].apply(lambda x: split_ids_responses(x, n))\n",
    "\n",
    "# Create the new DataFrame with the required column names\n",
    "new_columns_df = pd.DataFrame(new_columns.tolist(), columns=[f\"Other_ID{i+1}\" if i < n else f\"Other_Response{i-n+1}\" for i in range(n*2)])\n",
    "\n",
    "# Concatenate with the original DataFrame\n",
    "df = pd.concat([df, new_columns_df], axis=1)\n",
    "\n",
    "# Save the modified DataFrame to a new CSV\n",
    "df.to_csv(\"/workspace/Voluntary-Contributions/Id.csv\", index=False)\n"
   ]
  },
  {
   "cell_type": "code",
   "execution_count": 12,
   "metadata": {},
   "outputs": [],
   "source": [
    "columns_to_drop = [\"IDs_Uncleaned\", \"1\", \"2\", \"3\", \"4\"]\n",
    "\n",
    "# Drop specified columns\n",
    "df = df.drop(columns=columns_to_drop, errors='ignore')  # errors='ignore' to handle duplicates\n",
    "\n",
    "# Save the modified DataFrame to a new CSV file\n",
    "df.to_csv(\"/workspace/Voluntary-Contributions/Id.csv\", index=False)\n",
    "\n",
    "df = df.iloc[:, 5:]\n",
    "df['Key'] = range(1, len(df) + 1)\n",
    "\n",
    "# Save the modified DataFrame to a new CSV file\n",
    "df.to_csv(\"/workspace/Voluntary-Contributions/Id.csv\", index=False)"
   ]
  },
  {
   "cell_type": "code",
   "execution_count": 17,
   "metadata": {},
   "outputs": [],
   "source": [
    "df1 = pd.read_csv(\"/workspace/Voluntary-Contributions/Voluntary-Contributions(Sheet1).csv\")\n",
    "df1['Key'] = range(1, len(df) + 1)\n",
    "df1.to_csv(\"/workspace/Voluntary-Contributions/Voluntary-Contributions(Sheet1).csv\", index=False)\n",
    "\n",
    "df2 = pd.read_csv(\"/workspace/Voluntary-Contributions/Id.csv\")\n",
    "\n",
    "merged_df = pd.merge(df1, df2, on='Key', how='inner')  \n",
    "merged_df['Group'] = ((merged_df['ID'] - 1) // 4) + 1\n",
    "merged_df.to_csv('merged_data.csv', index=False)"
   ]
  }
 ],
 "metadata": {
  "kernelspec": {
   "display_name": "Python 3",
   "language": "python",
   "name": "python3"
  },
  "language_info": {
   "codemirror_mode": {
    "name": "ipython",
    "version": 3
   },
   "file_extension": ".py",
   "mimetype": "text/x-python",
   "name": "python",
   "nbconvert_exporter": "python",
   "pygments_lexer": "ipython3",
   "version": "3.12.6"
  }
 },
 "nbformat": 4,
 "nbformat_minor": 2
}
